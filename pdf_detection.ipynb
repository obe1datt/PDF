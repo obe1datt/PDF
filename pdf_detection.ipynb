{
 "cells": [
  {
   "cell_type": "code",
   "execution_count": 1,
   "id": "4088997e",
   "metadata": {
    "_cell_guid": "b1076dfc-b9ad-4769-8c92-a6c4dae69d19",
    "_uuid": "8f2839f25d086af736a60e9eeb907d3b93b6e0e5",
    "execution": {
     "iopub.execute_input": "2022-08-01T23:03:48.373080Z",
     "iopub.status.busy": "2022-08-01T23:03:48.372098Z",
     "iopub.status.idle": "2022-08-01T23:03:48.395778Z",
     "shell.execute_reply": "2022-08-01T23:03:48.394118Z"
    },
    "papermill": {
     "duration": 0.036527,
     "end_time": "2022-08-01T23:03:48.398834",
     "exception": false,
     "start_time": "2022-08-01T23:03:48.362307",
     "status": "completed"
    },
    "tags": []
   },
   "outputs": [
    {
     "name": "stdout",
     "output_type": "stream",
     "text": [
      "./cic-pdfmalware2022-part-2-simple-models.ipynb\n",
      "./PDFMalware2022.csv\n",
      "./PDFMalware2022.parquet\n",
      "./pdf_detection.ipynb\n",
      "./pdf_malware.ipynb\n",
      "./.ipynb_checkpoints\\cic-pdfmalware2022-part-2-simple-models-checkpoint.ipynb\n",
      "./.ipynb_checkpoints\\pdf_detection-checkpoint.ipynb\n",
      "./.ipynb_checkpoints\\pdf_malware-checkpoint.ipynb\n"
     ]
    }
   ],
   "source": [
    "# This Python 3 environment comes with many helpful analytics libraries installed\n",
    "# It is defined by the kaggle/python Docker image: https://github.com/kaggle/docker-python\n",
    "# For example, here's several helpful packages to load\n",
    "\n",
    "import numpy as np # linear algebra\n",
    "import pandas as pd # data processing, CSV file I/O (e.g. pd.read_csv)\n",
    "\n",
    "# Input data files are available in the read-only \"../input/\" directory\n",
    "# For example, running this (by clicking run or pressing Shift+Enter) will list all files under the input directory\n",
    "\n",
    "import os\n",
    "for dirname, _, filenames in os.walk('./'):\n",
    "    for filename in filenames:\n",
    "        print(os.path.join(dirname, filename))\n",
    "\n",
    "# You can write up to 20GB to the current directory (/kaggle/working/) that gets preserved as output when you create a version using \"Save & Run All\" \n",
    "# You can also write temporary files to /kaggle/temp/, but they won't be saved outside of the current session"
   ]
  },
  {
   "cell_type": "code",
   "execution_count": 2,
   "id": "48e290b4",
   "metadata": {
    "execution": {
     "iopub.execute_input": "2022-08-01T23:03:48.425542Z",
     "iopub.status.busy": "2022-08-01T23:03:48.424713Z",
     "iopub.status.idle": "2022-08-01T23:03:48.624826Z",
     "shell.execute_reply": "2022-08-01T23:03:48.623910Z"
    },
    "papermill": {
     "duration": 0.210082,
     "end_time": "2022-08-01T23:03:48.627403",
     "exception": false,
     "start_time": "2022-08-01T23:03:48.417321",
     "status": "completed"
    },
    "tags": []
   },
   "outputs": [],
   "source": [
    "df = pd.read_parquet('./PDFMalware2022.parquet')\n"
   ]
  },
  {
   "cell_type": "code",
   "execution_count": 3,
   "id": "382586df",
   "metadata": {
    "execution": {
     "iopub.execute_input": "2022-08-01T23:03:48.641687Z",
     "iopub.status.busy": "2022-08-01T23:03:48.641288Z",
     "iopub.status.idle": "2022-08-01T23:03:49.783432Z",
     "shell.execute_reply": "2022-08-01T23:03:49.782398Z"
    },
    "papermill": {
     "duration": 1.152465,
     "end_time": "2022-08-01T23:03:49.786143",
     "exception": false,
     "start_time": "2022-08-01T23:03:48.633678",
     "status": "completed"
    },
    "tags": []
   },
   "outputs": [],
   "source": [
    "from sklearn.metrics import roc_auc_score, recall_score, precision_score, f1_score, accuracy_score\n",
    "from sklearn.model_selection import RandomizedSearchCV, cross_val_score, KFold, train_test_split\n",
    "from scipy.stats import uniform, randint\n"
   ]
  },
  {
   "cell_type": "code",
   "execution_count": 4,
   "id": "a3eb110a",
   "metadata": {
    "execution": {
     "iopub.execute_input": "2022-08-01T23:03:49.800134Z",
     "iopub.status.busy": "2022-08-01T23:03:49.799709Z",
     "iopub.status.idle": "2022-08-01T23:03:49.955630Z",
     "shell.execute_reply": "2022-08-01T23:03:49.954373Z"
    },
    "papermill": {
     "duration": 0.166253,
     "end_time": "2022-08-01T23:03:49.958531",
     "exception": false,
     "start_time": "2022-08-01T23:03:49.792278",
     "status": "completed"
    },
    "tags": []
   },
   "outputs": [],
   "source": [
    "# install xgboost if not available\n",
    "try: import xgboost\n",
    "except ModuleNotFoundError:\n",
    "    !pip install -Uq xgboost\n",
    "from xgboost import XGBClassifier\n",
    "from xgboost.callback import EarlyStopping"
   ]
  },
  {
   "cell_type": "code",
   "execution_count": 5,
   "id": "e023c507",
   "metadata": {},
   "outputs": [
    {
     "data": {
      "text/plain": [
       "Index(['FileName', 'PdfSize', 'MetadataSize', 'Pages', 'XrefLength',\n",
       "       'TitleCharacters', 'isEncrypted', 'EmbeddedFiles', 'Images', 'Text',\n",
       "       'Header', 'Obj', 'Endobj', 'Stream', 'Endstream', 'Xref', 'Trailer',\n",
       "       'StartXref', 'PageNo', 'Encrypt', 'ObjStm', 'JS', 'Javascript', 'AA',\n",
       "       'OpenAction', 'Acroform', 'JBIG2Decode', 'RichMedia', 'Launch',\n",
       "       'EmbeddedFile', 'XFA', 'Colors', 'Class'],\n",
       "      dtype='object')"
      ]
     },
     "execution_count": 5,
     "metadata": {},
     "output_type": "execute_result"
    }
   ],
   "source": [
    "df.columns"
   ]
  },
  {
   "cell_type": "code",
   "execution_count": 6,
   "id": "b36c4b6f",
   "metadata": {},
   "outputs": [
    {
     "data": {
      "text/plain": [
       "['No', 'Yes', 'unclear', '-1', '0']\n",
       "Categories (5, object): ['-1', '0', 'No', 'Yes', 'unclear']"
      ]
     },
     "execution_count": 6,
     "metadata": {},
     "output_type": "execute_result"
    }
   ],
   "source": [
    "df['Text'].unique()"
   ]
  },
  {
   "cell_type": "code",
   "execution_count": 7,
   "id": "790cf9b0",
   "metadata": {},
   "outputs": [],
   "source": [
    "# Extract version from header column\n",
    "df['Version'] = df['Header'].str.extract(r'%PDF-(\\d+\\.\\d+)', expand=False)\n",
    "\n",
    "# Drop original header column\n",
    "df = df.drop(['Header'], axis=1)\n",
    "\n",
    "# Fill missing values with mode\n",
    "df['Version'] = df['Version'].fillna(df['Version'].mode()[0])\n",
    "\n",
    "# Convert version to float\n",
    "df['Version'] = df['Version'].astype(float)"
   ]
  },
  {
   "cell_type": "code",
   "execution_count": 8,
   "id": "eadd3cce",
   "metadata": {
    "execution": {
     "iopub.execute_input": "2022-08-01T23:03:50.000229Z",
     "iopub.status.busy": "2022-08-01T23:03:49.999798Z",
     "iopub.status.idle": "2022-08-01T23:03:50.013015Z",
     "shell.execute_reply": "2022-08-01T23:03:50.011553Z"
    },
    "papermill": {
     "duration": 0.024086,
     "end_time": "2022-08-01T23:03:50.015653",
     "exception": false,
     "start_time": "2022-08-01T23:03:49.991567",
     "status": "completed"
    },
    "tags": []
   },
   "outputs": [
    {
     "data": {
      "text/plain": [
       "Index(['FileName', 'Images', 'Text', 'Obj', 'Endobj', 'Endstream', 'Xref',\n",
       "       'StartXref', 'PageNo', 'JS', 'Javascript', 'AA', 'OpenAction',\n",
       "       'Acroform', 'JBIG2Decode', 'RichMedia', 'Launch', 'EmbeddedFile', 'XFA',\n",
       "       'Class'],\n",
       "      dtype='object')"
      ]
     },
     "execution_count": 8,
     "metadata": {},
     "output_type": "execute_result"
    }
   ],
   "source": [
    "dep = 'Class'\n",
    "cats = df.select_dtypes(include='category').columns\n",
    "conts = df.columns.difference([dep]+list(cats))\n",
    "cats  "
   ]
  },
  {
   "cell_type": "code",
   "execution_count": 9,
   "id": "c820a85b",
   "metadata": {},
   "outputs": [
    {
     "data": {
      "text/plain": [
       "array([1.3  , 1.6  , 1.5  , 1.4  , 1.   , 1.7  , 1.1  , 1.2  , 1.544,\n",
       "       1.344, 0.9  , 2.4  , 1.8  ])"
      ]
     },
     "execution_count": 9,
     "metadata": {},
     "output_type": "execute_result"
    }
   ],
   "source": [
    "df['Version'].unique()"
   ]
  },
  {
   "cell_type": "code",
   "execution_count": 10,
   "id": "1734f564",
   "metadata": {},
   "outputs": [],
   "source": [
    "# Creating holders to store the model performance results\n",
    "list1  = []\n",
    "list2  = []\n",
    "list3  = []\n",
    "list4  = []\n",
    "list5  = []\n",
    "\n",
    "#function to call for storing the results\n",
    "def storeResults(model, a,b,c,d):\n",
    "  list1.append(model)\n",
    "  list2.append(round(a, 3))\n",
    "  list3.append(round(b, 3))\n",
    "  list4.append(round(c, 3))\n",
    "  list5.append(round(d, 3))"
   ]
  },
  {
   "cell_type": "code",
   "execution_count": 11,
   "id": "09b539ff",
   "metadata": {},
   "outputs": [],
   "source": [
    "def xs_y(df_, targ):    \n",
    "    if not isinstance(targ, list):\n",
    "        xs = df_[df_.columns.difference([targ])].copy()\n",
    "    else:\n",
    "        xs = df_[df_.columns.difference(targ)].copy()\n",
    "    y = df_[targ].copy()\n",
    "    return xs, y"
   ]
  },
  {
   "cell_type": "code",
   "execution_count": 12,
   "id": "9652b426",
   "metadata": {},
   "outputs": [],
   "source": [
    "trn_df  , val_df  = train_test_split(df  , test_size=0.30)\n",
    "val_df , test_df  = train_test_split(df,test_size=0.75)\n",
    "trn_df[cats] = trn_df[cats].apply(lambda x:x.cat.codes)\n",
    "val_df[cats] = val_df[cats].apply(lambda x:x.cat.codes)\n",
    "test_df[cats] = test_df[cats].apply(lambda x:x.cat.codes)"
   ]
  },
  {
   "cell_type": "code",
   "execution_count": 13,
   "id": "471af878",
   "metadata": {
    "execution": {
     "iopub.execute_input": "2022-08-01T23:03:50.126103Z",
     "iopub.status.busy": "2022-08-01T23:03:50.125656Z",
     "iopub.status.idle": "2022-08-01T23:03:50.139521Z",
     "shell.execute_reply": "2022-08-01T23:03:50.138162Z"
    },
    "papermill": {
     "duration": 0.02453,
     "end_time": "2022-08-01T23:03:50.142163",
     "exception": false,
     "start_time": "2022-08-01T23:03:50.117633",
     "status": "completed"
    },
    "tags": []
   },
   "outputs": [],
   "source": [
    "X_train, y_train = xs_y(trn_df, dep)\n",
    "X_val, y_val = xs_y(val_df, dep)\n",
    "X_test, y_test = xs_y(test_df, dep)"
   ]
  },
  {
   "cell_type": "markdown",
   "id": "e284bdd6",
   "metadata": {
    "papermill": {
     "duration": 0.005844,
     "end_time": "2022-08-01T23:03:50.154535",
     "exception": false,
     "start_time": "2022-08-01T23:03:50.148691",
     "status": "completed"
    },
    "tags": []
   },
   "source": [
    "## Part 1 XGBoost once, without parameter optimization on a 70% train, 22.5% test split\n",
    "The separate *X_val, y_val*, another 7.5% validation set remains unused, but is required later to avoid model contamination."
   ]
  },
  {
   "cell_type": "code",
   "execution_count": 14,
   "id": "e224fdfb",
   "metadata": {
    "execution": {
     "iopub.execute_input": "2022-08-01T23:03:50.169441Z",
     "iopub.status.busy": "2022-08-01T23:03:50.168349Z",
     "iopub.status.idle": "2022-08-01T23:03:50.620210Z",
     "shell.execute_reply": "2022-08-01T23:03:50.619194Z"
    },
    "papermill": {
     "duration": 0.461865,
     "end_time": "2022-08-01T23:03:50.622654",
     "exception": false,
     "start_time": "2022-08-01T23:03:50.160789",
     "status": "completed"
    },
    "tags": []
   },
   "outputs": [
    {
     "name": "stderr",
     "output_type": "stream",
     "text": [
      "C:\\Users\\moode\\anaconda3\\lib\\site-packages\\xgboost\\sklearn.py:1421: UserWarning: `use_label_encoder` is deprecated in 1.7.0.\n",
      "  warnings.warn(\"`use_label_encoder` is deprecated in 1.7.0.\")\n"
     ]
    },
    {
     "data": {
      "text/plain": [
       "XGBClassifier(base_score=0.5, booster='gbtree', callbacks=None,\n",
       "              colsample_bylevel=1, colsample_bynode=1, colsample_bytree=0.5,\n",
       "              early_stopping_rounds=None, enable_categorical=False,\n",
       "              eval_metric='logloss', feature_types=None, gamma=0, gpu_id=-1,\n",
       "              grow_policy='depthwise', importance_type='gain',\n",
       "              interaction_constraints='', learning_rate=0.300000012,\n",
       "              max_bin=256, max_cat_threshold=64, max_cat_to_onehot=4,\n",
       "              max_delta_step=0, max_depth=8, max_leaves=0, min_child_weight=1,\n",
       "              missing=nan, monotone_constraints='()', n_estimators=100,\n",
       "              n_jobs=-1, num_parallel_tree=1, predictor='cpu_predictor',\n",
       "              random_state=0, ...)"
      ]
     },
     "execution_count": 14,
     "metadata": {},
     "output_type": "execute_result"
    }
   ],
   "source": [
    "xgb = XGBClassifier(\n",
    "    n_estimators= 100,\n",
    "    use_label_encoder= False,\n",
    "    max_depth= 8,\n",
    "    booster= 'gbtree',\n",
    "    tree_method= 'hist',\n",
    "    subsample= 0.5,\n",
    "    colsample_bytree= 0.5,\n",
    "    importance_type= 'gain',\n",
    "    objective='binary:logistic',\n",
    "    eval_metric='logloss',\n",
    "    predictor= 'cpu_predictor',\n",
    "    n_jobs= -1)\n",
    "\n",
    "xgb.fit(X_train, y_train)"
   ]
  },
  {
   "cell_type": "code",
   "execution_count": 15,
   "id": "494dfc53",
   "metadata": {
    "execution": {
     "iopub.execute_input": "2022-08-01T23:03:50.636743Z",
     "iopub.status.busy": "2022-08-01T23:03:50.636298Z",
     "iopub.status.idle": "2022-08-01T23:03:50.678849Z",
     "shell.execute_reply": "2022-08-01T23:03:50.677287Z"
    },
    "papermill": {
     "duration": 0.052457,
     "end_time": "2022-08-01T23:03:50.681317",
     "exception": false,
     "start_time": "2022-08-01T23:03:50.628860",
     "status": "completed"
    },
    "tags": []
   },
   "outputs": [
    {
     "name": "stdout",
     "output_type": "stream",
     "text": [
      "The XGBoost model\n",
      "ROC-AUC 0.9970993097994721\n",
      "Accuracy 0.9972067039106145\n",
      "Precision 0.9968862275449102\n",
      "Recall 0.9980815347721822\n"
     ]
    }
   ],
   "source": [
    "xgb_preds = xgb.predict(X_test)\n",
    "xgb_preds.shape\n",
    "\n",
    "roc_xgb  = roc_auc_score(y_true=y_test, y_score=xgb_preds)\n",
    "acu_xgb  = accuracy_score(y_true=y_test, y_pred=xgb_preds)\n",
    "pre_xgb  = precision_score(y_true=y_test, y_pred=xgb_preds) \n",
    "rec_xgb  = recall_score(y_true=y_test, y_pred=xgb_preds) \n",
    "\n",
    "print(\"The XGBoost model\")\n",
    "print(\"ROC-AUC\",roc_xgb )\n",
    "print(\"Accuracy\", acu_xgb)\n",
    "print(\"Precision\",pre_xgb)\n",
    "print(\"Recall\", rec_xgb)\n"
   ]
  },
  {
   "cell_type": "code",
   "execution_count": 16,
   "id": "eb32d922",
   "metadata": {},
   "outputs": [],
   "source": [
    "\n",
    "storeResults('XGboost  ',roc_xgb ,acu_xgb,\n",
    "             pre_xgb,rec_xgb)"
   ]
  },
  {
   "cell_type": "code",
   "execution_count": 17,
   "id": "f8b20557",
   "metadata": {},
   "outputs": [
    {
     "data": {
      "text/plain": [
       "DecisionTreeClassifier(criterion='entropy', max_depth=23, random_state=101)"
      ]
     },
     "execution_count": 17,
     "metadata": {},
     "output_type": "execute_result"
    }
   ],
   "source": [
    "from sklearn import tree\n",
    "\n",
    "dt_model  =tree.DecisionTreeClassifier(random_state=101, max_depth=23,criterion=\"entropy\")\n",
    "dt_model.fit(X_train, y_train)"
   ]
  },
  {
   "cell_type": "code",
   "execution_count": 18,
   "id": "8adc9a67",
   "metadata": {},
   "outputs": [
    {
     "name": "stdout",
     "output_type": "stream",
     "text": [
      "Decision tree model\n",
      "ROC-AUC 0.9952124322047738\n",
      "Accuracy 0.9952114924181963\n",
      "Precision 0.9961593855016803\n",
      "Recall 0.9952038369304557\n"
     ]
    }
   ],
   "source": [
    "dt_preds = dt_model.predict(X_test)\n",
    "dt_preds.shape\n",
    "\n",
    "roc_dt  = roc_auc_score(y_true=y_test, y_score=dt_preds)\n",
    "acu_dt  = accuracy_score(y_true=y_test, y_pred=dt_preds)\n",
    "pre_dt  = precision_score(y_true=y_test, y_pred=dt_preds) \n",
    "rec_dt  = recall_score(y_true=y_test, y_pred=dt_preds) \n",
    "\n",
    "print(\"Decision tree model\")\n",
    "print(\"ROC-AUC\",roc_dt )\n",
    "print(\"Accuracy\", acu_dt)\n",
    "print(\"Precision\",pre_dt)\n",
    "print(\"Recall\", rec_dt)"
   ]
  },
  {
   "cell_type": "code",
   "execution_count": 19,
   "id": "46aef907",
   "metadata": {},
   "outputs": [],
   "source": [
    "storeResults('Decision tree',roc_dt ,acu_dt,\n",
    "             pre_dt,rec_dt)"
   ]
  },
  {
   "cell_type": "code",
   "execution_count": 20,
   "id": "00c82188",
   "metadata": {},
   "outputs": [
    {
     "data": {
      "text/plain": [
       "(AdaBoostClassifier(n_estimators=30, random_state=42),)"
      ]
     },
     "execution_count": 20,
     "metadata": {},
     "output_type": "execute_result"
    }
   ],
   "source": [
    "from sklearn.ensemble import AdaBoostClassifier\n",
    "ab = AdaBoostClassifier(n_estimators=30, random_state=42)\n",
    "ab.fit(X_train,y_train), "
   ]
  },
  {
   "cell_type": "code",
   "execution_count": 21,
   "id": "efe9f3d9",
   "metadata": {},
   "outputs": [
    {
     "name": "stdout",
     "output_type": "stream",
     "text": [
      "Ada boost  model\n",
      "ROC-AUC 0.9861485005543953\n",
      "Accuracy 0.9862995477520617\n",
      "Precision 0.9877668505636843\n",
      "Recall 0.9875299760191847\n"
     ]
    }
   ],
   "source": [
    "ab_preds = ab.predict(X_test)\n",
    "ab_preds.shape\n",
    "\n",
    "roc_ab  = roc_auc_score(y_true=y_test, y_score=ab_preds)\n",
    "acu_ab  = accuracy_score(y_true=y_test, y_pred=ab_preds)\n",
    "pre_ab  = precision_score(y_true=y_test, y_pred=ab_preds) \n",
    "rec_ab  = recall_score(y_true=y_test, y_pred=ab_preds) \n",
    "\n",
    "print(\"Ada boost  model\")\n",
    "print(\"ROC-AUC\",roc_ab )\n",
    "print(\"Accuracy\", acu_ab)\n",
    "print(\"Precision\",pre_ab)\n",
    "print(\"Recall\", rec_ab)"
   ]
  },
  {
   "cell_type": "code",
   "execution_count": 22,
   "id": "0b05e70c",
   "metadata": {},
   "outputs": [],
   "source": [
    "storeResults('Ada boost ',roc_ab ,acu_ab,\n",
    "             pre_ab,rec_ab)"
   ]
  },
  {
   "cell_type": "code",
   "execution_count": 23,
   "id": "73c755d9",
   "metadata": {},
   "outputs": [
    {
     "data": {
      "text/plain": [
       "KNeighborsClassifier(n_neighbors=2)"
      ]
     },
     "execution_count": 23,
     "metadata": {},
     "output_type": "execute_result"
    }
   ],
   "source": [
    "from sklearn.neighbors import KNeighborsClassifier\n",
    "knn = KNeighborsClassifier(n_neighbors=2)\n",
    "# Fit the model to the training data\n",
    "knn.fit(X_train, y_train)"
   ]
  },
  {
   "cell_type": "code",
   "execution_count": 24,
   "id": "b220f87d",
   "metadata": {},
   "outputs": [
    {
     "name": "stderr",
     "output_type": "stream",
     "text": [
      "C:\\Users\\moode\\anaconda3\\lib\\site-packages\\sklearn\\neighbors\\_classification.py:228: FutureWarning: Unlike other reduction functions (e.g. `skew`, `kurtosis`), the default behavior of `mode` typically preserves the axis it acts along. In SciPy 1.11.0, this behavior will change: the default value of `keepdims` will become False, the `axis` over which the statistic is taken will be eliminated, and the value None will no longer be accepted. Set `keepdims` to True or False to avoid this warning.\n",
      "  mode, _ = stats.mode(_y[neigh_ind, k], axis=1)\n"
     ]
    },
    {
     "name": "stdout",
     "output_type": "stream",
     "text": [
      "KNN model\n",
      "ROC-AUC 0.9130134601995823\n",
      "Accuracy 0.905559989358872\n",
      "Precision 0.9824316787506971\n",
      "Recall 0.8448441247002398\n"
     ]
    }
   ],
   "source": [
    "knn_preds = knn.predict(X_test)\n",
    "knn_preds.shape\n",
    "\n",
    "roc_knn  = roc_auc_score(y_true=y_test, y_score=knn_preds)\n",
    "acu_knn  = accuracy_score(y_true=y_test, y_pred=knn_preds)\n",
    "pre_knn  = precision_score(y_true=y_test, y_pred=knn_preds) \n",
    "rec_knn  = recall_score(y_true=y_test, y_pred=knn_preds) \n",
    "\n",
    "print(\"KNN model\")\n",
    "print(\"ROC-AUC\",roc_knn )\n",
    "print(\"Accuracy\", acu_knn)\n",
    "print(\"Precision\",pre_knn)\n",
    "print(\"Recall\", rec_knn)"
   ]
  },
  {
   "cell_type": "code",
   "execution_count": 25,
   "id": "1a71871f",
   "metadata": {},
   "outputs": [],
   "source": [
    "storeResults('knn  ',roc_knn ,acu_knn,\n",
    "             pre_knn,rec_knn)"
   ]
  },
  {
   "cell_type": "code",
   "execution_count": 26,
   "id": "6afc0318",
   "metadata": {},
   "outputs": [
    {
     "name": "stderr",
     "output_type": "stream",
     "text": [
      "C:\\Users\\moode\\anaconda3\\lib\\site-packages\\sklearn\\linear_model\\_logistic.py:814: ConvergenceWarning: lbfgs failed to converge (status=1):\n",
      "STOP: TOTAL NO. of ITERATIONS REACHED LIMIT.\n",
      "\n",
      "Increase the number of iterations (max_iter) or scale the data as shown in:\n",
      "    https://scikit-learn.org/stable/modules/preprocessing.html\n",
      "Please also refer to the documentation for alternative solver options:\n",
      "    https://scikit-learn.org/stable/modules/linear_model.html#logistic-regression\n",
      "  n_iter_i = _check_optimize_result(\n"
     ]
    },
    {
     "data": {
      "text/plain": [
       "LogisticRegression(max_iter=300, random_state=101)"
      ]
     },
     "execution_count": 26,
     "metadata": {},
     "output_type": "execute_result"
    }
   ],
   "source": [
    "from sklearn.linear_model import LogisticRegression\n",
    "\n",
    "lg_model  = LogisticRegression( random_state=101, max_iter=300)\n",
    "lg_model.fit(X_train, y_train)"
   ]
  },
  {
   "cell_type": "code",
   "execution_count": 27,
   "id": "46c5f902",
   "metadata": {},
   "outputs": [
    {
     "name": "stdout",
     "output_type": "stream",
     "text": [
      "LogisticRegression model \n",
      "ROC-AUC 0.8935346346578651\n",
      "Accuracy 0.897047086991221\n",
      "Precision 0.8926919518963923\n",
      "Recall 0.9256594724220624\n"
     ]
    }
   ],
   "source": [
    "lg_preds = lg_model.predict(X_test)\n",
    "lg_preds.shape\n",
    "\n",
    "roc_lg  = roc_auc_score(y_true=y_test, y_score=lg_preds)\n",
    "acu_lg  = accuracy_score(y_true=y_test, y_pred=lg_preds)\n",
    "pre_lg  = precision_score(y_true=y_test, y_pred=lg_preds) \n",
    "rec_lg  = recall_score(y_true=y_test, y_pred=lg_preds) \n",
    "\n",
    "print(\"LogisticRegression model \")\n",
    "print(\"ROC-AUC\",roc_lg )\n",
    "print(\"Accuracy\", acu_lg)\n",
    "print(\"Precision\",pre_lg)\n",
    "print(\"Recall\", rec_lg)"
   ]
  },
  {
   "cell_type": "code",
   "execution_count": 28,
   "id": "079d1d7b",
   "metadata": {},
   "outputs": [],
   "source": [
    "storeResults('LogisticRegression',roc_lg ,acu_lg,\n",
    "             pre_lg,rec_lg)"
   ]
  },
  {
   "cell_type": "code",
   "execution_count": 29,
   "id": "db622252",
   "metadata": {},
   "outputs": [],
   "source": [
    "from sklearn.ensemble import GradientBoostingClassifier\n",
    "\n",
    "gbc = GradientBoostingClassifier(n_estimators=100, learning_rate=1.0,\n",
    "    max_depth=1, random_state=0).fit(X_train, y_train)"
   ]
  },
  {
   "cell_type": "code",
   "execution_count": 30,
   "id": "e32bc9ae",
   "metadata": {},
   "outputs": [
    {
     "name": "stdout",
     "output_type": "stream",
     "text": [
      "GradientBoostingClassifier model \n",
      "ROC-AUC 0.9923411808187858\n",
      "Accuracy 0.9924181963288109\n",
      "Precision 0.9932837610937875\n",
      "Recall 0.9930455635491606\n"
     ]
    }
   ],
   "source": [
    "gbc_preds = gbc.predict(X_test)\n",
    "gbc_preds.shape\n",
    "\n",
    "roc_gbc  = roc_auc_score(y_true=y_test, y_score=gbc_preds)\n",
    "acu_gbc  = accuracy_score(y_true=y_test, y_pred=gbc_preds)\n",
    "pre_gbc  = precision_score(y_true=y_test, y_pred=gbc_preds) \n",
    "rec_gbc  = recall_score(y_true=y_test, y_pred=gbc_preds) \n",
    "\n",
    "print(\"GradientBoostingClassifier model \")\n",
    "print(\"ROC-AUC\",roc_gbc )\n",
    "print(\"Accuracy\", acu_gbc)\n",
    "print(\"Precision\",pre_gbc)\n",
    "print(\"Recall\", rec_gbc)"
   ]
  },
  {
   "cell_type": "code",
   "execution_count": 31,
   "id": "644758e1",
   "metadata": {},
   "outputs": [],
   "source": [
    "storeResults('GradientBoostingClassifier',roc_gbc ,acu_gbc,\n",
    "             pre_gbc,rec_gbc)"
   ]
  },
  {
   "cell_type": "code",
   "execution_count": 32,
   "id": "23796bc8",
   "metadata": {},
   "outputs": [
    {
     "data": {
      "text/plain": [
       "SVC()"
      ]
     },
     "execution_count": 32,
     "metadata": {},
     "output_type": "execute_result"
    }
   ],
   "source": [
    "from sklearn import svm\n",
    "svc = svm.SVC()\n",
    "svc.fit(X_train, y_train)"
   ]
  },
  {
   "cell_type": "code",
   "execution_count": 33,
   "id": "d13120c8",
   "metadata": {},
   "outputs": [
    {
     "name": "stdout",
     "output_type": "stream",
     "text": [
      "Support vector machine  model \n",
      "ROC-AUC 0.5688780158668764\n",
      "Accuracy 0.6142591114658154\n",
      "Precision 0.5915513264129181\n",
      "Recall 0.9839328537170264\n"
     ]
    }
   ],
   "source": [
    "svc_preds = svc.predict(X_test)\n",
    "svc_preds.shape\n",
    "\n",
    "roc_svc  = roc_auc_score(y_true=y_test, y_score=svc_preds)\n",
    "acu_svc  = accuracy_score(y_true=y_test, y_pred=svc_preds)\n",
    "pre_svc  = precision_score(y_true=y_test, y_pred=svc_preds) \n",
    "rec_svc  = recall_score(y_true=y_test, y_pred=svc_preds) \n",
    "\n",
    "print(\"Support vector machine  model \")\n",
    "print(\"ROC-AUC\",roc_svc )\n",
    "print(\"Accuracy\", acu_svc)\n",
    "print(\"Precision\",pre_svc)\n",
    "print(\"Recall\", rec_svc)"
   ]
  },
  {
   "cell_type": "code",
   "execution_count": 34,
   "id": "a1d85e0a",
   "metadata": {},
   "outputs": [],
   "source": [
    "storeResults('Support vector machine',roc_svc ,acu_svc,\n",
    "             pre_svc,rec_svc)"
   ]
  },
  {
   "cell_type": "code",
   "execution_count": 35,
   "id": "ce4548be",
   "metadata": {},
   "outputs": [
    {
     "data": {
      "text/plain": [
       "RandomForestClassifier(criterion='entropy', max_depth=15, n_estimators=20,\n",
       "                       random_state=100)"
      ]
     },
     "execution_count": 35,
     "metadata": {},
     "output_type": "execute_result"
    }
   ],
   "source": [
    "from sklearn.ensemble import RandomForestClassifier\n",
    "RF = RandomForestClassifier(n_estimators=20, random_state=100,max_depth=15,criterion='entropy')\n",
    "RF.fit(X_train, y_train)"
   ]
  },
  {
   "cell_type": "code",
   "execution_count": 36,
   "id": "8067216a",
   "metadata": {},
   "outputs": [
    {
     "name": "stdout",
     "output_type": "stream",
     "text": [
      "RandomForestClassifier model \n",
      "ROC-AUC 0.9973075303198301\n",
      "Accuracy 0.9973397180101091\n",
      "Precision 0.9976019184652278\n",
      "Recall 0.9976019184652278\n"
     ]
    }
   ],
   "source": [
    "rf_preds = RF.predict(X_test)\n",
    "rf_preds.shape\n",
    "\n",
    "roc_rf  = roc_auc_score(y_true=y_test, y_score=rf_preds)\n",
    "acu_rf  = accuracy_score(y_true=y_test, y_pred=rf_preds)\n",
    "pre_rf  = precision_score(y_true=y_test, y_pred=rf_preds) \n",
    "rec_rf  = recall_score(y_true=y_test, y_pred=rf_preds) \n",
    "\n",
    "print(\"RandomForestClassifier model \")\n",
    "print(\"ROC-AUC\",roc_rf )\n",
    "print(\"Accuracy\", acu_rf)\n",
    "print(\"Precision\",pre_rf)\n",
    "print(\"Recall\", rec_rf)"
   ]
  },
  {
   "cell_type": "code",
   "execution_count": 37,
   "id": "d99de21d",
   "metadata": {},
   "outputs": [],
   "source": [
    "storeResults('Support vector machine',roc_rf ,acu_rf,\n",
    "             pre_rf,rec_rf)"
   ]
  },
  {
   "cell_type": "code",
   "execution_count": 38,
   "id": "e3f7d63e",
   "metadata": {},
   "outputs": [],
   "source": [
    "result = pd.DataFrame({ 'ML Model' : list1,\n",
    "                        'Accuracy' : list2,\n",
    "                        'f1_score' : list3,\n",
    "                        'Recall'   : list4,\n",
    "                        'Precision': list5,\n",
    "                      })"
   ]
  },
  {
   "cell_type": "code",
   "execution_count": 39,
   "id": "eec6c53d",
   "metadata": {},
   "outputs": [],
   "source": [
    "#Sorting the datafram on accuracy\n",
    "sorted_result=result.sort_values(by=['Accuracy', 'f1_score'],ascending=False).reset_index(drop=True)"
   ]
  },
  {
   "cell_type": "code",
   "execution_count": 40,
   "id": "5c65df28",
   "metadata": {},
   "outputs": [
    {
     "data": {
      "text/html": [
       "<div>\n",
       "<style scoped>\n",
       "    .dataframe tbody tr th:only-of-type {\n",
       "        vertical-align: middle;\n",
       "    }\n",
       "\n",
       "    .dataframe tbody tr th {\n",
       "        vertical-align: top;\n",
       "    }\n",
       "\n",
       "    .dataframe thead th {\n",
       "        text-align: right;\n",
       "    }\n",
       "</style>\n",
       "<table border=\"1\" class=\"dataframe\">\n",
       "  <thead>\n",
       "    <tr style=\"text-align: right;\">\n",
       "      <th></th>\n",
       "      <th>ML Model</th>\n",
       "      <th>Accuracy</th>\n",
       "      <th>f1_score</th>\n",
       "      <th>Recall</th>\n",
       "      <th>Precision</th>\n",
       "    </tr>\n",
       "  </thead>\n",
       "  <tbody>\n",
       "    <tr>\n",
       "      <th>0</th>\n",
       "      <td>XGboost</td>\n",
       "      <td>0.997</td>\n",
       "      <td>0.997</td>\n",
       "      <td>0.997</td>\n",
       "      <td>0.998</td>\n",
       "    </tr>\n",
       "    <tr>\n",
       "      <th>1</th>\n",
       "      <td>Support vector machine</td>\n",
       "      <td>0.997</td>\n",
       "      <td>0.997</td>\n",
       "      <td>0.998</td>\n",
       "      <td>0.998</td>\n",
       "    </tr>\n",
       "    <tr>\n",
       "      <th>2</th>\n",
       "      <td>Decision tree</td>\n",
       "      <td>0.995</td>\n",
       "      <td>0.995</td>\n",
       "      <td>0.996</td>\n",
       "      <td>0.995</td>\n",
       "    </tr>\n",
       "    <tr>\n",
       "      <th>3</th>\n",
       "      <td>GradientBoostingClassifier</td>\n",
       "      <td>0.992</td>\n",
       "      <td>0.992</td>\n",
       "      <td>0.993</td>\n",
       "      <td>0.993</td>\n",
       "    </tr>\n",
       "    <tr>\n",
       "      <th>4</th>\n",
       "      <td>Ada boost</td>\n",
       "      <td>0.986</td>\n",
       "      <td>0.986</td>\n",
       "      <td>0.988</td>\n",
       "      <td>0.988</td>\n",
       "    </tr>\n",
       "    <tr>\n",
       "      <th>5</th>\n",
       "      <td>knn</td>\n",
       "      <td>0.913</td>\n",
       "      <td>0.906</td>\n",
       "      <td>0.982</td>\n",
       "      <td>0.845</td>\n",
       "    </tr>\n",
       "    <tr>\n",
       "      <th>6</th>\n",
       "      <td>LogisticRegression</td>\n",
       "      <td>0.894</td>\n",
       "      <td>0.897</td>\n",
       "      <td>0.893</td>\n",
       "      <td>0.926</td>\n",
       "    </tr>\n",
       "    <tr>\n",
       "      <th>7</th>\n",
       "      <td>Support vector machine</td>\n",
       "      <td>0.569</td>\n",
       "      <td>0.614</td>\n",
       "      <td>0.592</td>\n",
       "      <td>0.984</td>\n",
       "    </tr>\n",
       "  </tbody>\n",
       "</table>\n",
       "</div>"
      ],
      "text/plain": [
       "                     ML Model  Accuracy  f1_score  Recall  Precision\n",
       "0                   XGboost       0.997     0.997   0.997      0.998\n",
       "1      Support vector machine     0.997     0.997   0.998      0.998\n",
       "2               Decision tree     0.995     0.995   0.996      0.995\n",
       "3  GradientBoostingClassifier     0.992     0.992   0.993      0.993\n",
       "4                  Ada boost      0.986     0.986   0.988      0.988\n",
       "5                       knn       0.913     0.906   0.982      0.845\n",
       "6          LogisticRegression     0.894     0.897   0.893      0.926\n",
       "7      Support vector machine     0.569     0.614   0.592      0.984"
      ]
     },
     "execution_count": 40,
     "metadata": {},
     "output_type": "execute_result"
    }
   ],
   "source": [
    "# dispalying total result\n",
    "sorted_result"
   ]
  }
 ],
 "metadata": {
  "kernelspec": {
   "display_name": "Python 3 (ipykernel)",
   "language": "python",
   "name": "python3"
  },
  "language_info": {
   "codemirror_mode": {
    "name": "ipython",
    "version": 3
   },
   "file_extension": ".py",
   "mimetype": "text/x-python",
   "name": "python",
   "nbconvert_exporter": "python",
   "pygments_lexer": "ipython3",
   "version": "3.9.13"
  },
  "papermill": {
   "default_parameters": {},
   "duration": 211.619869,
   "end_time": "2022-08-01T23:07:10.102694",
   "environment_variables": {},
   "exception": null,
   "input_path": "__notebook__.ipynb",
   "output_path": "__notebook__.ipynb",
   "parameters": {},
   "start_time": "2022-08-01T23:03:38.482825",
   "version": "2.3.4"
  }
 },
 "nbformat": 4,
 "nbformat_minor": 5
}
